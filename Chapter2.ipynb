{
 "cells": [
  {
   "cell_type": "code",
   "execution_count": 1,
   "metadata": {},
   "outputs": [],
   "source": [
    "import warnings\n",
    "warnings.filterwarnings('ignore')"
   ]
  },
  {
   "cell_type": "code",
   "execution_count": 2,
   "metadata": {},
   "outputs": [],
   "source": [
    "import chainer.optimizers as Opt\n",
    "import chainer.functions as F\n",
    "import chainer.links as L\n",
    "from chainer import Variable,Chain,config"
   ]
  },
  {
   "cell_type": "code",
   "execution_count": 3,
   "metadata": {},
   "outputs": [],
   "source": [
    "import numpy as np\n",
    "import matplotlib.pyplot as plt\n",
    "\n",
    "D = 100\n",
    "N = 2\n",
    "xdata = np.random.randn(D * N).reshape(D, N).astype(np.float32)\n",
    "\n",
    "def f(x):\n",
    "    y = x * x\n",
    "    return y\n",
    "\n",
    "tdata = (xdata[:, 1] > f(xdata[:, 0])).astype(np.int32)"
   ]
  },
  {
   "cell_type": "code",
   "execution_count": 4,
   "metadata": {},
   "outputs": [],
   "source": [
    "C = 2\n",
    "NN = Chain(l1 = L.Linear(N, C))"
   ]
  },
  {
   "cell_type": "code",
   "execution_count": 5,
   "metadata": {},
   "outputs": [],
   "source": [
    "def model(x): \n",
    "    y = NN.l1(x)\n",
    "    return y"
   ]
  },
  {
   "cell_type": "code",
   "execution_count": 6,
   "metadata": {},
   "outputs": [
    {
     "name": "stdout",
     "output_type": "stream",
     "text": [
      "variable([[ 0.40457797 -0.10856972]\n",
      "          [-1.3047737   1.7790747 ]\n",
      "          [-0.9929745   0.6648317 ]\n",
      "          [ 1.2083898  -1.6649114 ]\n",
      "          [-0.704111    0.5192141 ]\n",
      "          [-0.30989555  0.38458633]\n",
      "          [-0.6431762  -0.25103128]\n",
      "          [ 2.564841   -2.806568  ]\n",
      "          [-0.87856764  1.6339803 ]\n",
      "          [-1.2157676   0.60084367]\n",
      "          [-0.08095599 -0.7347476 ]\n",
      "          [-0.7299032  -0.71454567]\n",
      "          [-0.93217975  0.19822353]\n",
      "          [ 1.8341451   0.65171915]\n",
      "          [-1.7108173   1.2231872 ]\n",
      "          [-0.6464376  -0.3020497 ]\n",
      "          [ 0.69047254 -0.7389856 ]\n",
      "          [-1.8900936  -0.12071937]\n",
      "          [-0.27767763  0.6357489 ]\n",
      "          [ 0.06203686 -0.77769005]\n",
      "          [ 1.4002441  -0.12087978]\n",
      "          [ 0.45911235 -0.54676014]\n",
      "          [ 0.92694056 -0.7427497 ]\n",
      "          [ 0.01277181  0.37199083]\n",
      "          [ 1.4052143  -0.3420391 ]\n",
      "          [-0.30043864 -0.70352024]\n",
      "          [-0.30648202  0.13559733]\n",
      "          [ 1.6474378  -1.1626078 ]\n",
      "          [ 0.29167604  1.1139387 ]\n",
      "          [-1.0136396   1.5101478 ]\n",
      "          [-1.229799    0.3644163 ]\n",
      "          [-0.6519267  -0.34230754]\n",
      "          [-1.7549833  -0.6465755 ]\n",
      "          [-0.46606606  0.7798316 ]\n",
      "          [-0.67049164 -0.34321034]\n",
      "          [-0.3927391   0.8254795 ]\n",
      "          [-1.654023    1.9467704 ]\n",
      "          [-2.1259573   0.61112976]\n",
      "          [ 0.79894334 -1.269507  ]\n",
      "          [-1.3877369   0.38312894]\n",
      "          [ 0.61574286 -0.5655853 ]\n",
      "          [-1.2180638   1.4032724 ]\n",
      "          [-0.05841167 -1.3363013 ]\n",
      "          [ 0.94238746  0.02441106]\n",
      "          [-0.4894569  -0.8672002 ]\n",
      "          [-0.77567524  1.0895795 ]\n",
      "          [-0.85549176 -0.1980063 ]\n",
      "          [ 1.6460817  -1.0082983 ]\n",
      "          [-0.6085816   0.10297247]\n",
      "          [ 1.2391602  -0.59062344]\n",
      "          [ 0.6804487  -1.1995301 ]\n",
      "          [ 0.5531859   1.704338  ]\n",
      "          [ 1.0161158  -0.08072986]\n",
      "          [-1.0953181   0.7554243 ]\n",
      "          [ 0.5981708   0.38926318]\n",
      "          [-1.3862653   0.9296022 ]\n",
      "          [ 0.18287352  0.18046524]\n",
      "          [-1.4773326   0.29746488]\n",
      "          [-0.62588215 -1.981052  ]\n",
      "          [ 0.5134562   0.80933154]\n",
      "          [-0.6535542   0.62238157]\n",
      "          [-0.15263675  0.42526537]\n",
      "          [ 2.3449688  -1.5365062 ]\n",
      "          [ 0.57676804 -0.7825241 ]\n",
      "          [ 2.6705425  -0.40182003]\n",
      "          [-0.62457484  0.05522147]\n",
      "          [ 1.6751918  -1.3894703 ]\n",
      "          [-0.37108016  0.30079684]\n",
      "          [-0.65262914 -0.82492656]\n",
      "          [ 0.94432807 -1.8292683 ]\n",
      "          [-0.37295792  0.05070126]\n",
      "          [ 1.4818771  -1.1281066 ]\n",
      "          [-0.35255167  0.85347444]\n",
      "          [ 0.9269629   0.6222277 ]\n",
      "          [ 0.01026752 -0.38502786]\n",
      "          [-0.93716913 -1.9055564 ]\n",
      "          [-0.5103607  -0.7096783 ]\n",
      "          [ 0.6927379   0.6372295 ]\n",
      "          [ 1.1271262  -1.2675959 ]\n",
      "          [ 0.686244   -1.1224715 ]\n",
      "          [-0.12472451 -1.4498869 ]\n",
      "          [-0.8374813   1.6478256 ]\n",
      "          [ 0.2761487   1.129735  ]\n",
      "          [ 1.6884067   0.3158198 ]\n",
      "          [ 0.24504846 -2.2241306 ]\n",
      "          [ 0.23237345 -1.5055667 ]\n",
      "          [-0.9546436   1.4163377 ]\n",
      "          [-1.8912834   1.2677474 ]\n",
      "          [-0.08366016  0.2224721 ]\n",
      "          [ 0.55278563 -0.12560244]\n",
      "          [ 1.3143759   0.76133704]\n",
      "          [-0.6701988   1.1840179 ]\n",
      "          [ 0.17059498 -0.33430344]\n",
      "          [-0.51359886  0.5439239 ]\n",
      "          [-0.10755472  1.2604991 ]\n",
      "          [ 2.2132201  -1.6369038 ]\n",
      "          [-0.7397633   0.8707787 ]\n",
      "          [ 2.3000395   0.47354108]\n",
      "          [-1.4944413  -0.5127214 ]\n",
      "          [-0.1411367   0.32553643]])\n"
     ]
    }
   ],
   "source": [
    "ydata = model(xdata)\n",
    "print(ydata)"
   ]
  },
  {
   "cell_type": "code",
   "execution_count": 7,
   "metadata": {},
   "outputs": [
    {
     "name": "stdout",
     "output_type": "stream",
     "text": [
      "variable(0.59)\n"
     ]
    }
   ],
   "source": [
    "acc = F.accuracy(ydata, tdata)\n",
    "print(acc)"
   ]
  },
  {
   "cell_type": "code",
   "execution_count": 8,
   "metadata": {},
   "outputs": [
    {
     "data": {
      "text/plain": [
       "<chainer.optimizers.sgd.SGD at 0x11efded50>"
      ]
     },
     "execution_count": 8,
     "metadata": {},
     "output_type": "execute_result"
    }
   ],
   "source": [
    "optNN = Opt.SGD()\n",
    "optNN.setup(NN)"
   ]
  },
  {
   "cell_type": "code",
   "execution_count": 9,
   "metadata": {},
   "outputs": [],
   "source": [
    "loss_series = []\n",
    "acc_series = []"
   ]
  },
  {
   "cell_type": "code",
   "execution_count": 10,
   "metadata": {},
   "outputs": [],
   "source": [
    "T = 500\n",
    "for time in range(T):\n",
    "    config.train = True\n",
    "    optNN.target.zerograds()\n",
    "    ydata = model(xdata)\n",
    "    loss = F.softmax_cross_entropy(ydata, tdata)\n",
    "    acc = F.accuracy(ydata, tdata)\n",
    "    loss.backward()\n",
    "    optNN.update()\n",
    "    \n",
    "    loss_series.append(loss.data)\n",
    "    acc_series.append(acc.data)"
   ]
  },
  {
   "cell_type": "code",
   "execution_count": 11,
   "metadata": {},
   "outputs": [
    {
     "data": {
      "image/png": "[encoded data removed]",
      "text/plain": [
       "<Figure size 576x432 with 1 Axes>"
      ]
     },
     "metadata": {
      "needs_background": "light"
     },
     "output_type": "display_data"
    }
   ],
   "source": [
    "Tall = len(loss_series)\n",
    "plt.figure(figsize = (8,6))\n",
    "plt.plot(range(Tall), loss_series)\n",
    "plt.title(\"loss function in training\")\n",
    "plt.xlabel(\"step\")\n",
    "plt.ylabel(\"loss function\")\n",
    "plt.xlim([0, Tall])\n",
    "plt.ylim([0, 1])\n",
    "plt.show()"
   ]
  },
  {
   "cell_type": "code",
   "execution_count": 12,
   "metadata": {},
   "outputs": [
    {
     "data": {
      "image/png": "[encoded data removed]",
      "text/plain": [
       "<Figure size 576x432 with 1 Axes>"
      ]
     },
     "metadata": {
      "needs_background": "light"
     },
     "output_type": "display_data"
    }
   ],
   "source": [
    "plt.figure(figsize=(8,6))\n",
    "plt.plot(range(Tall),acc_series)\n",
    "plt.title(\"accuracy in training\")\n",
    "plt.xlabel(\"step\")\n",
    "plt.ylabel(\"accuracy\")\n",
    "plt.xlim([0,Tall])\n",
    "plt.ylim([0,1])\n",
    "plt.show()"
   ]
  },
  {
   "cell_type": "code",
   "execution_count": null,
   "metadata": {},
   "outputs": [],
   "source": []
  }
 ],
 "metadata": {
  "kernelspec": {
   "display_name": "Python 3",
   "language": "python",
   "name": "python3"
  },
  "language_info": {
   "codemirror_mode": {
    "name": "ipython",
    "version": 3
   },
   "file_extension": ".py",
   "mimetype": "text/x-python",
   "name": "python",
   "nbconvert_exporter": "python",
   "pygments_lexer": "ipython3",
   "version": "3.7.7"
  }
 },
 "nbformat": 4,
 "nbformat_minor": 4
}
