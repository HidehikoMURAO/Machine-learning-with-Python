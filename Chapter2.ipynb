{
 "cells": [
  {
   "cell_type": "code",
   "execution_count": 1,
   "metadata": {},
   "outputs": [],
   "source": [
    "import warnings\n",
    "warnings.filterwarnings('ignore')"
   ]
  },
  {
   "cell_type": "code",
   "execution_count": 2,
   "metadata": {},
   "outputs": [],
   "source": [
    "import chainer.optimizers as Opt\n",
    "import chainer.functions as F\n",
    "import chainer.links as L\n",
    "from chainer import Variable,Chain,config"
   ]
  },
  {
   "cell_type": "code",
   "execution_count": 3,
   "metadata": {},
   "outputs": [],
   "source": [
    "import numpy as np\n",
    "import matplotlib.pyplot as plt\n",
    "\n",
    "D = 100\n",
    "N = 2\n",
    "xdata = np.random.randn(D * N).reshape(D, N).astype(np.float32)\n",
    "\n",
    "def f(x):\n",
    "    y = x * x\n",
    "    return y\n",
    "\n",
    "tdata = (xdata[:, 1] > f(xdata[:, 0])).astype(np.int32)"
   ]
  },
  {
   "cell_type": "code",
   "execution_count": 4,
   "metadata": {},
   "outputs": [],
   "source": [
    "C = 2\n",
    "NN = Chain(l1 = L.Linear(N, C))"
   ]
  },
  {
   "cell_type": "code",
   "execution_count": 5,
   "metadata": {},
   "outputs": [],
   "source": [
    "def model(x): \n",
    "    y = NN.l1(x)\n",
    "    return y"
   ]
  },
  {
   "cell_type": "code",
   "execution_count": 6,
   "metadata": {},
   "outputs": [
    {
     "name": "stdout",
     "output_type": "stream",
     "text": [
      "variable([[ 1.30588388e+00  2.04447091e-01]\n",
      "          [ 1.42221391e+00  2.23689884e-01]\n",
      "          [ 2.76172101e-01  1.64780356e-02]\n",
      "          [-2.87861753e+00 -4.25074130e-01]\n",
      "          [-1.76143968e+00 -2.15738907e-01]\n",
      "          [-2.30444264e+00 -3.00293922e-01]\n",
      "          [ 2.39422202e+00  3.00672919e-01]\n",
      "          [-6.80605710e-01 -1.49574474e-01]\n",
      "          [ 2.24831533e+00  2.68343776e-01]\n",
      "          [ 2.00426078e+00  1.66244000e-01]\n",
      "          [ 5.79631233e+00  6.34146869e-01]\n",
      "          [-1.11630630e+00 -1.60173789e-01]\n",
      "          [ 8.15444529e-01 -3.54830213e-02]\n",
      "          [ 2.59902263e+00  3.69345963e-01]\n",
      "          [ 6.95447326e-01  1.48922745e-02]\n",
      "          [ 1.99537170e+00  2.49876067e-01]\n",
      "          [ 9.51187909e-01  1.28433630e-01]\n",
      "          [-5.26259780e-01 -1.43414706e-01]\n",
      "          [ 4.85389471e-01  1.01627588e-01]\n",
      "          [-2.63916326e+00 -3.81687462e-01]\n",
      "          [-2.59103966e+00 -2.76346475e-01]\n",
      "          [ 9.90602612e-01  7.08092973e-02]\n",
      "          [ 2.28335810e+00  2.84365177e-01]\n",
      "          [-2.40729904e+00 -3.36005330e-01]\n",
      "          [-1.92741528e-01 -1.22925930e-01]\n",
      "          [-3.37321401e+00 -3.38819385e-01]\n",
      "          [-2.40127993e+00 -2.30480164e-01]\n",
      "          [ 5.99549174e-01 -2.62570921e-02]\n",
      "          [ 4.28439283e+00  5.46384096e-01]\n",
      "          [-1.22158897e+00 -1.96508527e-01]\n",
      "          [ 1.09701645e+00  1.82669163e-01]\n",
      "          [-8.35059285e-01 -7.58388489e-02]\n",
      "          [-6.18657732e+00 -6.99338973e-01]\n",
      "          [ 2.22177550e-01 -1.26771592e-02]\n",
      "          [-1.27110767e+00 -7.92180151e-02]\n",
      "          [ 9.14935946e-01  1.19043857e-01]\n",
      "          [ 1.16323900e+00  9.94064212e-02]\n",
      "          [-3.86933446e-01 -5.97952902e-02]\n",
      "          [-1.39279389e+00 -2.32613981e-01]\n",
      "          [-8.25113475e-01 -1.31949142e-01]\n",
      "          [-1.83251262e+00 -2.33599797e-01]\n",
      "          [-5.67363143e-01 -1.47334794e-02]\n",
      "          [ 1.60043108e+00  2.61170685e-01]\n",
      "          [-1.45954818e-01  2.08608229e-02]\n",
      "          [ 2.02814341e+00  1.99208036e-01]\n",
      "          [ 3.15886927e+00  2.98801064e-01]\n",
      "          [ 1.71781898e+00  2.25659236e-01]\n",
      "          [-2.82299972e+00 -2.95920700e-01]\n",
      "          [-1.73382676e+00 -2.40408316e-01]\n",
      "          [ 3.48903775e+00  4.43640351e-01]\n",
      "          [-1.34984064e+00 -1.42648414e-01]\n",
      "          [ 6.36677295e-02 -8.99320934e-03]\n",
      "          [ 3.15792418e+00  3.65933120e-01]\n",
      "          [ 3.27370381e+00  4.42734063e-01]\n",
      "          [-1.70489788e+00 -1.83737695e-01]\n",
      "          [ 1.22711849e+00  1.77562714e-01]\n",
      "          [-3.52988243e+00 -3.68068993e-01]\n",
      "          [ 2.62733459e-01  8.59275609e-02]\n",
      "          [ 5.31164169e-01 -1.34544829e-02]\n",
      "          [ 2.18934417e+00  2.93324381e-01]\n",
      "          [ 3.65488577e+00  4.15575385e-01]\n",
      "          [ 1.44754314e+00  1.72066167e-01]\n",
      "          [-3.55560255e+00 -4.38735664e-01]\n",
      "          [ 4.71227407e+00  6.47279084e-01]\n",
      "          [-1.46921480e+00 -1.59426928e-01]\n",
      "          [ 1.36402404e+00  2.31191337e-01]\n",
      "          [ 6.55392138e-03  1.73410643e-02]\n",
      "          [ 1.75137162e+00  2.84325808e-01]\n",
      "          [-4.40635061e+00 -5.55190504e-01]\n",
      "          [ 1.30576149e-01  3.32642533e-02]\n",
      "          [-1.93704522e+00 -2.81869948e-01]\n",
      "          [ 2.19252872e+00  2.85131037e-01]\n",
      "          [-1.18441737e+00 -1.75311387e-01]\n",
      "          [-2.20372486e+00 -2.47196704e-01]\n",
      "          [-1.20571303e+00 -1.94362998e-01]\n",
      "          [-3.62453294e+00 -5.10394275e-01]\n",
      "          [-2.23018599e+00 -3.63212973e-01]\n",
      "          [-1.69809210e+00 -2.21397221e-01]\n",
      "          [ 2.21493319e-02  8.26607496e-02]\n",
      "          [-4.78148580e-01 -1.15954921e-01]\n",
      "          [-5.83842456e-01  4.09992281e-05]\n",
      "          [-3.02473545e-01  7.21462369e-02]\n",
      "          [ 1.04872368e-01 -8.78460426e-03]\n",
      "          [ 2.13382888e+00  2.49618158e-01]\n",
      "          [ 2.76075935e+00  3.80622685e-01]\n",
      "          [ 1.59704566e-01  1.39476359e-01]\n",
      "          [-2.44097447e+00 -3.00562680e-01]\n",
      "          [ 3.99966925e-01  9.99158481e-04]\n",
      "          [ 6.85623288e-01  1.47250772e-01]\n",
      "          [-1.51503336e+00 -1.66432172e-01]\n",
      "          [ 5.41827869e+00  6.29830360e-01]\n",
      "          [ 1.27101731e+00  1.21077754e-01]\n",
      "          [ 3.93741637e-01  1.10215463e-01]\n",
      "          [-4.79762822e-01 -3.60158496e-02]\n",
      "          [ 1.00452042e+00  1.77100763e-01]\n",
      "          [ 6.44555509e-01  9.23422500e-02]\n",
      "          [ 1.93026090e+00  2.33604237e-01]\n",
      "          [-6.92602813e-01 -1.22893296e-01]\n",
      "          [ 2.48904616e-01 -1.94313489e-02]\n",
      "          [ 1.70093954e+00  2.17340082e-01]])\n"
     ]
    }
   ],
   "source": [
    "ydata = model(xdata)\n",
    "print(ydata)"
   ]
  },
  {
   "cell_type": "code",
   "execution_count": 7,
   "metadata": {},
   "outputs": [
    {
     "name": "stdout",
     "output_type": "stream",
     "text": [
      "variable(0.65)\n"
     ]
    }
   ],
   "source": [
    "acc = F.accuracy(ydata, tdata)\n",
    "print(acc)"
   ]
  },
  {
   "cell_type": "code",
   "execution_count": 8,
   "metadata": {},
   "outputs": [
    {
     "data": {
      "text/plain": [
       "<chainer.optimizers.sgd.SGD at 0x10ca47850>"
      ]
     },
     "execution_count": 8,
     "metadata": {},
     "output_type": "execute_result"
    }
   ],
   "source": [
    "optNN = Opt.SGD()\n",
    "optNN.setup(NN)"
   ]
  },
  {
   "cell_type": "code",
   "execution_count": 9,
   "metadata": {},
   "outputs": [],
   "source": [
    "loss_series = []\n",
    "acc_series = []"
   ]
  },
  {
   "cell_type": "code",
   "execution_count": 10,
   "metadata": {},
   "outputs": [],
   "source": [
    "T = 500\n",
    "for time in range(T):\n",
    "    config.train = True\n",
    "    optNN.target.zerograds()\n",
    "    ydata = model(xdata)\n",
    "    loss = F.softmax_cross_entropy(ydata, tdata)\n",
    "    acc = F.accuracy(ydata, tdata)\n",
    "    loss.backward()\n",
    "    optNN.update()\n",
    "    \n",
    "    loss_series.append(loss.data)\n",
    "    acc_series.append(acc.data)"
   ]
  },
  {
   "cell_type": "code",
   "execution_count": 11,
   "metadata": {},
   "outputs": [
    {
     "data": {
      "image/png": "[encoded data removed]",
      "text/plain": [
       "<Figure size 576x432 with 1 Axes>"
      ]
     },
     "metadata": {
      "needs_background": "light"
     },
     "output_type": "display_data"
    }
   ],
   "source": [
    "Tall = len(loss_series)\n",
    "plt.figure(figsize = (8,6))\n",
    "plt.plot(range(Tall), loss_series)\n",
    "plt.title(\"loss function in training\")\n",
    "plt.xlabel(\"step\")\n",
    "plt.ylabel(\"loss function\")\n",
    "plt.xlim([0, Tall])\n",
    "plt.ylim([0, 1])\n",
    "plt.show()"
   ]
  },
  {
   "cell_type": "code",
   "execution_count": 12,
   "metadata": {},
   "outputs": [
    {
     "data": {
      "image/png": "[encoded data removed]",
      "text/plain": [
       "<Figure size 576x432 with 1 Axes>"
      ]
     },
     "metadata": {
      "needs_background": "light"
     },
     "output_type": "display_data"
    }
   ],
   "source": [
    "plt.figure(figsize=(8,6))\n",
    "plt.plot(range(Tall),acc_series)\n",
    "plt.title(\"accuracy in training\")\n",
    "plt.xlabel(\"step\")\n",
    "plt.ylabel(\"accuracy\")\n",
    "plt.xlim([0,Tall])\n",
    "plt.ylim([0,1])\n",
    "plt.show()"
   ]
  },
  {
   "cell_type": "code",
   "execution_count": 13,
   "metadata": {},
   "outputs": [],
   "source": [
    "C = 2\n",
    "NN = Chain(l1 = L.Linear(N, 4), l2 = L.Linear(4, C))"
   ]
  },
  {
   "cell_type": "code",
   "execution_count": 14,
   "metadata": {},
   "outputs": [],
   "source": [
    "def model(x): \n",
    "    h = NN.l1(x)\n",
    "    h = F.sigmoid(h)\n",
    "    y = NN.l2(h)\n",
    "    return y"
   ]
  },
  {
   "cell_type": "code",
   "execution_count": 15,
   "metadata": {},
   "outputs": [
    {
     "data": {
      "image/png": "[encoded data removed]",
      "text/plain": [
       "<Figure size 576x432 with 1 Axes>"
      ]
     },
     "metadata": {
      "needs_background": "light"
     },
     "output_type": "display_data"
    },
    {
     "data": {
      "image/png": "[encoded data removed]",
      "text/plain": [
       "<Figure size 576x432 with 1 Axes>"
      ]
     },
     "metadata": {
      "needs_background": "light"
     },
     "output_type": "display_data"
    }
   ],
   "source": [
    "optNN = Opt.SGD()\n",
    "optNN.setup(NN)\n",
    "\n",
    "# 学習の記録を残す場所を用意して\n",
    "loss_series = []\n",
    "acc_series = []\n",
    "\n",
    "# 再び結界を張った\n",
    "T = 20000\n",
    "\n",
    "for time in range(T): \n",
    "    config.train = True\n",
    "    optNN.target.zerograds()\n",
    "    ydata = model(xdata)\n",
    "    loss = F.softmax_cross_entropy(ydata, tdata)\n",
    "    acc = F.accuracy(ydata, tdata)\n",
    "    loss.backward()\n",
    "    optNN.update()\n",
    "    \n",
    "    loss_series.append(loss.data)\n",
    "    acc_series.append(acc.data)\n",
    "\n",
    "# 誤差関数の表示\n",
    "Tall = len(loss_series)\n",
    "plt.figure(figsize = (8, 6))\n",
    "plt.plot(range(Tall), loss_series)\n",
    "plt.title(\"loss function in training\")\n",
    "plt.xlabel(\"step\")\n",
    "plt.ylabel(\"loss function\")\n",
    "plt.xlim([0, Tall])\n",
    "plt.ylim([0, 4])\n",
    "\n",
    "plt.show()\n",
    "\n",
    "# 精度の表示をして\n",
    "plt.figure(figsize = (8, 6))\n",
    "plt.plot(range(Tall),acc_series)\n",
    "plt.title(\"accuracy in training\")\n",
    "plt.xlabel(\"step\")\n",
    "plt.ylabel(\"accuracy\")\n",
    "plt.xlim([0, Tall])\n",
    "plt.ylim([0, 1])\n",
    "plt.show()"
   ]
  },
  {
   "cell_type": "code",
   "execution_count": null,
   "metadata": {},
   "outputs": [],
   "source": []
  }
 ],
 "metadata": {
  "kernelspec": {
   "display_name": "Python 3",
   "language": "python",
   "name": "python3"
  },
  "language_info": {
   "codemirror_mode": {
    "name": "ipython",
    "version": 3
   },
   "file_extension": ".py",
   "mimetype": "text/x-python",
   "name": "python",
   "nbconvert_exporter": "python",
   "pygments_lexer": "ipython3",
   "version": "3.7.7"
  }
 },
 "nbformat": 4,
 "nbformat_minor": 4
}
