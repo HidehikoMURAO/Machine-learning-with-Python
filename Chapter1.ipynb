{
 "cells": [
  {
   "cell_type": "markdown",
   "metadata": {},
   "source": [
    "### 1-4 魔法の儀式"
   ]
  },
  {
   "cell_type": "code",
   "execution_count": 1,
   "metadata": {},
   "outputs": [],
   "source": [
    "import numpy as np\n",
    "import matplotlib.pyplot as plt"
   ]
  },
  {
   "cell_type": "markdown",
   "metadata": {},
   "source": [
    "### 1-5 乱数を発生させる"
   ]
  },
  {
   "cell_type": "code",
   "execution_count": 2,
   "metadata": {},
   "outputs": [
    {
     "name": "stdout",
     "output_type": "stream",
     "text": [
      "[[ 2.840945   -1.1389514 ]\n",
      " [ 2.012411   -0.18808472]\n",
      " [-1.1038284   0.1255933 ]\n",
      " [ 2.513833    0.43234885]\n",
      " [ 0.9833657  -0.9569185 ]\n",
      " [-0.8953831   1.0480374 ]\n",
      " [ 0.3079769   0.5183913 ]\n",
      " [-1.130758    0.26286027]\n",
      " [ 0.9206016  -0.48315427]\n",
      " [-0.37443855  0.46618733]\n",
      " [ 0.3936422  -1.773465  ]\n",
      " [-1.7644904  -0.4872133 ]\n",
      " [ 0.30024254  2.9054875 ]\n",
      " [-0.2830831   0.22814935]\n",
      " [ 0.29140988  0.8881123 ]\n",
      " [-0.4836365   0.30548537]\n",
      " [-1.07325    -1.0094035 ]\n",
      " [-0.5851407   0.8201196 ]\n",
      " [ 1.9574505   0.16353108]\n",
      " [ 0.5429042   1.1998832 ]\n",
      " [ 0.8987446  -0.48836318]\n",
      " [-1.3660042   0.4490741 ]\n",
      " [ 0.8760673  -0.293686  ]\n",
      " [ 1.3682467  -0.4246612 ]\n",
      " [-0.6311103  -0.8998075 ]\n",
      " [-0.3762461  -1.2253318 ]\n",
      " [ 0.35976532 -0.0810953 ]\n",
      " [-0.6088093   0.09611177]\n",
      " [-0.31063658 -2.283267  ]\n",
      " [ 2.2315753   1.1199389 ]\n",
      " [-0.1912024  -0.23392892]\n",
      " [-1.8620071   2.1684184 ]\n",
      " [ 0.2719555  -0.37299898]\n",
      " [-0.24667332 -1.0977712 ]\n",
      " [-0.23791844  0.11344083]\n",
      " [-0.8218662  -0.40935493]\n",
      " [-0.45993304 -1.1795617 ]\n",
      " [-1.6390201  -1.219721  ]\n",
      " [-0.7330609   0.13797176]\n",
      " [ 1.3240936  -0.15675752]\n",
      " [-0.02258622  0.23703168]\n",
      " [ 0.87814355 -0.41970435]\n",
      " [-1.522034   -0.5384283 ]\n",
      " [ 0.8279274   0.62999004]\n",
      " [-0.26047054  1.0444409 ]\n",
      " [-0.73022085 -0.6935384 ]\n",
      " [-0.509579    0.00553795]\n",
      " [-0.30258146  0.9265485 ]\n",
      " [ 0.6222607   0.5135795 ]\n",
      " [-0.44466412  0.28286773]\n",
      " [ 0.06760249 -1.0636828 ]\n",
      " [ 0.49502978 -0.07931846]\n",
      " [ 0.29647335 -0.07792375]\n",
      " [-0.33446017 -0.300741  ]\n",
      " [ 0.08725826 -0.00646578]\n",
      " [-0.651959   -0.3373278 ]\n",
      " [ 0.1454001  -0.5145855 ]\n",
      " [-1.0770379   0.3307261 ]\n",
      " [ 1.4717973   0.09501545]\n",
      " [ 0.8186677  -1.4125899 ]\n",
      " [-1.289234    0.07416012]\n",
      " [ 1.1878422  -2.6060045 ]\n",
      " [-0.6398644  -0.12836424]\n",
      " [ 0.16566622  1.4309661 ]\n",
      " [-0.56732714 -1.2399315 ]\n",
      " [-0.81172246 -2.0539315 ]\n",
      " [-0.11187768 -0.3780084 ]\n",
      " [-0.5232044   0.16476046]\n",
      " [ 0.30738586  1.3498619 ]\n",
      " [ 0.49130458  0.60686564]\n",
      " [-0.72068906  0.4166332 ]\n",
      " [ 0.93951595 -0.8563438 ]\n",
      " [-0.21610776  1.477005  ]\n",
      " [ 0.6066863   0.29743826]\n",
      " [-1.0785092   0.84925944]\n",
      " [-1.1542199  -2.018305  ]\n",
      " [-0.45010418  0.30594602]\n",
      " [ 0.30519202  0.27149513]\n",
      " [ 1.4316859   0.9341394 ]\n",
      " [-1.3020288   0.33367747]\n",
      " [ 1.2376077  -1.9638872 ]\n",
      " [-1.0523199  -0.16377334]\n",
      " [-0.37212044  0.50516146]\n",
      " [-0.8223417  -0.08962817]\n",
      " [ 1.1602412  -0.93649244]\n",
      " [ 0.46197647  0.7396572 ]\n",
      " [-0.82269466  1.7978833 ]\n",
      " [-0.92674017 -0.2714602 ]\n",
      " [ 0.96936285  1.3872567 ]\n",
      " [-1.2957058  -0.6593857 ]\n",
      " [-1.8538382   0.7483582 ]\n",
      " [ 0.2676915  -2.233362  ]\n",
      " [-0.10119687  0.11031584]\n",
      " [-1.1283494  -0.30908397]\n",
      " [ 0.6126181  -0.44070113]\n",
      " [-1.1222636  -0.48721072]\n",
      " [-1.200315   -1.4924102 ]\n",
      " [-0.57977927  0.13772126]\n",
      " [ 0.43662736 -0.06028419]\n",
      " [-0.83370745  0.62652856]]\n"
     ]
    }
   ],
   "source": [
    "D = 100\n",
    "N = 2\n",
    "xdata = np.random.randn(D * N).reshape(D, N).astype(np.float32)\n",
    "\n",
    "print(xdata)"
   ]
  },
  {
   "cell_type": "markdown",
   "metadata": {},
   "source": [
    "### 1-6 結果の図示"
   ]
  },
  {
   "cell_type": "code",
   "execution_count": 3,
   "metadata": {},
   "outputs": [
    {
     "data": {
      "image/png": "[encoded data removed]",
      "text/plain": [
       "<Figure size 432x288 with 1 Axes>"
      ]
     },
     "metadata": {
      "needs_background": "light"
     },
     "output_type": "display_data"
    }
   ],
   "source": [
    "plt.scatter(xdata[:, 0], xdata[:, 1])\n",
    "plt.show()"
   ]
  },
  {
   "cell_type": "markdown",
   "metadata": {},
   "source": [
    "### 1-7 2種類の異なるデータ"
   ]
  },
  {
   "cell_type": "code",
   "execution_count": 4,
   "metadata": {},
   "outputs": [],
   "source": [
    "def f(x):\n",
    "    y = x * x\n",
    "    return y"
   ]
  },
  {
   "cell_type": "code",
   "execution_count": 5,
   "metadata": {},
   "outputs": [],
   "source": [
    "tdata = (xdata[:, 1] > f(xdata[:, 0])).astype(np.int32)"
   ]
  },
  {
   "cell_type": "code",
   "execution_count": 6,
   "metadata": {},
   "outputs": [
    {
     "name": "stdout",
     "output_type": "stream",
     "text": [
      "[0 0 0 0 0 1 1 0 0 1 0 0 1 1 1 1 0 1 0 1 0 0 0 0 0 0 0 0 0 0 0 0 0 0 1 0 0\n",
      " 0 0 0 1 0 0 0 1 0 0 1 1 1 0 0 0 0 0 0 0 0 0 0 0 0 0 1 0 0 0 0 1 1 0 0 1 0\n",
      " 0 0 1 1 0 0 0 0 1 0 0 1 1 0 1 0 0 0 1 0 0 0 0 0 0 0]\n"
     ]
    }
   ],
   "source": [
    "print(tdata)"
   ]
  },
  {
   "cell_type": "code",
   "execution_count": 7,
   "metadata": {},
   "outputs": [
    {
     "name": "stdout",
     "output_type": "stream",
     "text": [
      "(100,)\n"
     ]
    }
   ],
   "source": [
    "print(tdata.shape)"
   ]
  },
  {
   "cell_type": "code",
   "execution_count": 8,
   "metadata": {},
   "outputs": [],
   "source": [
    "ndata0 = np.where(tdata == 0)\n",
    "ndata1 = np.where(tdata == 1)"
   ]
  },
  {
   "cell_type": "code",
   "execution_count": 9,
   "metadata": {},
   "outputs": [
    {
     "name": "stdout",
     "output_type": "stream",
     "text": [
      "(array([ 0,  1,  2,  3,  4,  7,  8, 10, 11, 16, 18, 20, 21, 22, 23, 24, 25,\n",
      "       26, 27, 28, 29, 30, 31, 32, 33, 35, 36, 37, 38, 39, 41, 42, 43, 45,\n",
      "       46, 50, 51, 52, 53, 54, 55, 56, 57, 58, 59, 60, 61, 62, 64, 65, 66,\n",
      "       67, 70, 71, 73, 74, 75, 78, 79, 80, 81, 83, 84, 87, 89, 90, 91, 93,\n",
      "       94, 95, 96, 97, 98, 99]),)\n",
      "(array([ 5,  6,  9, 12, 13, 14, 15, 17, 19, 34, 40, 44, 47, 48, 49, 63, 68,\n",
      "       69, 72, 76, 77, 82, 85, 86, 88, 92]),)\n"
     ]
    }
   ],
   "source": [
    "print(ndata0)\n",
    "print(ndata1)"
   ]
  },
  {
   "cell_type": "code",
   "execution_count": 10,
   "metadata": {},
   "outputs": [
    {
     "data": {
      "text/plain": [
       "<function matplotlib.pyplot.show(*args, **kw)>"
      ]
     },
     "execution_count": 10,
     "metadata": {},
     "output_type": "execute_result"
    },
    {
     "data": {
      "image/png": "[encoded data removed]",
      "text/plain": [
       "<Figure size 432x288 with 1 Axes>"
      ]
     },
     "metadata": {
      "needs_background": "light"
     },
     "output_type": "display_data"
    }
   ],
   "source": [
    "x = np.linspace(-2.0, 2.0, D)\n",
    "plt.plot(x, f(x))\n",
    "plt.scatter(xdata[ndata0, 0], xdata[ndata0, 1], marker = \"x\")\n",
    "plt.scatter(xdata[ndata1, 0], xdata[ndata1, 1], marker = \"o\")\n",
    "plt.show"
   ]
  },
  {
   "cell_type": "code",
   "execution_count": null,
   "metadata": {},
   "outputs": [],
   "source": []
  }
 ],
 "metadata": {
  "kernelspec": {
   "display_name": "Python 3",
   "language": "python",
   "name": "python3"
  },
  "language_info": {
   "codemirror_mode": {
    "name": "ipython",
    "version": 3
   },
   "file_extension": ".py",
   "mimetype": "text/x-python",
   "name": "python",
   "nbconvert_exporter": "python",
   "pygments_lexer": "ipython3",
   "version": "3.7.7"
  }
 },
 "nbformat": 4,
 "nbformat_minor": 4
}
